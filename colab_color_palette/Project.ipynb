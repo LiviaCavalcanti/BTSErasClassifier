{
  "nbformat": 4,
  "nbformat_minor": 0,
  "metadata": {
    "colab": {
      "name": "Project.ipynb",
      "provenance": [],
      "collapsed_sections": [],
      "toc_visible": true
    },
    "kernelspec": {
      "name": "python3",
      "display_name": "Python 3"
    }
  },
  "cells": [
    {
      "cell_type": "code",
      "metadata": {
        "id": "JiID42CLDhjM",
        "colab_type": "code",
        "outputId": "3e177dc4-d4b1-4aa7-bdd0-cb1088300acd",
        "colab": {
          "base_uri": "https://localhost:8080/",
          "height": 88
        }
      },
      "source": [
        "# installing colorthief module\n",
        "!pip3 install colorthief"
      ],
      "execution_count": 0,
      "outputs": [
        {
          "output_type": "stream",
          "text": [
            "Requirement already satisfied: colorthief in /usr/local/lib/python3.6/dist-packages (0.2.1)\n",
            "Requirement already satisfied: Pillow in /usr/local/lib/python3.6/dist-packages (from colorthief) (4.3.0)\n",
            "Requirement already satisfied: olefile in /usr/local/lib/python3.6/dist-packages (from Pillow->colorthief) (0.46)\n"
          ],
          "name": "stdout"
        }
      ]
    },
    {
      "cell_type": "markdown",
      "metadata": {
        "id": "9LvBM0rRaPkb",
        "colab_type": "text"
      },
      "source": [
        "# Função cores"
      ]
    },
    {
      "cell_type": "code",
      "metadata": {
        "id": "HPo12VLUDLzR",
        "colab_type": "code",
        "outputId": "e6b9e4ba-be99-4916-878f-e0d31f30c90c",
        "colab": {
          "base_uri": "https://localhost:8080/",
          "height": 34
        }
      },
      "source": [
        "# imports\n",
        "from colorthief import ColorThief\n",
        "from urllib.request import urlretrieve\n",
        "\n",
        "# image url\n",
        "url = \"https://uploads.metropoles.com/wp-content/uploads/2019/01/19112146/Screenshot_2588.jpg\"\n",
        "# tmp file to save the image above\n",
        "tmp_file = \"tmp_file.jpg\"\n",
        "# saving the image on the tmp file path\n",
        "urlretrieve(url, tmp_file)\n",
        "# initializing the colorthief function to get the 50 main colors of the image \n",
        "ct = ColorThief(tmp_file)\n",
        "# setting the number of main colors to get from the image\n",
        "n_colors = 50\n",
        "# getting the n_colors\n",
        "palette = ct.get_palette(color_count=n_colors)\n",
        "# aux var to help getting the exactly n_colors from the image\n",
        "aux = 0\n",
        "while len(palette) < n_colors:\n",
        "\t\t\t\taux += 1\n",
        "\t\t\t\tpalette = ct.get_palette(color_count=(n_colors + aux))\n",
        "# showing the 50 colors palette\n",
        "palette[0:5]\n"
      ],
      "execution_count": 0,
      "outputs": [
        {
          "output_type": "execute_result",
          "data": {
            "text/plain": [
              "[(149, 63, 25), (171, 149, 132), (76, 60, 43), (131, 116, 106), (209, 112, 41)]"
            ]
          },
          "metadata": {
            "tags": []
          },
          "execution_count": 2
        }
      ]
    },
    {
      "cell_type": "markdown",
      "metadata": {
        "id": "sVcF9t_CaTQQ",
        "colab_type": "text"
      },
      "source": [
        "# Dados"
      ]
    },
    {
      "cell_type": "code",
      "metadata": {
        "id": "-M5nYYDhyYHK",
        "colab_type": "code",
        "colab": {}
      },
      "source": [
        "import pandas as pd"
      ],
      "execution_count": 0,
      "outputs": []
    },
    {
      "cell_type": "code",
      "metadata": {
        "id": "MVAh_LCezaAt",
        "colab_type": "code",
        "colab": {}
      },
      "source": [
        "# df=pd.read_csv('https://gist.githubusercontent.com/marianabianca/74c16fa62856aeebe0ec70d36ac118a4/raw/140e0d19a9ad4b840d40acc196ef1380301cd545/colors.csv')\n",
        "# df.head(1)\n",
        "# df.shape"
      ],
      "execution_count": 0,
      "outputs": []
    },
    {
      "cell_type": "code",
      "metadata": {
        "id": "8sk9cCcZ4Spj",
        "colab_type": "code",
        "outputId": "8aa198e9-7b5d-4af3-ddaa-c6b2036e2e68",
        "colab": {
          "base_uri": "https://localhost:8080/",
          "height": 129
        }
      },
      "source": [
        "df=pd.read_csv('https://gist.githubusercontent.com/marianabianca/74c16fa62856aeebe0ec70d36ac118a4/raw/fb5333d7e09e99c8546f7783c113874513d9e236/colors.csv')\n",
        "df.head(1)"
      ],
      "execution_count": 0,
      "outputs": [
        {
          "output_type": "execute_result",
          "data": {
            "text/html": [
              "<div>\n",
              "<style scoped>\n",
              "    .dataframe tbody tr th:only-of-type {\n",
              "        vertical-align: middle;\n",
              "    }\n",
              "\n",
              "    .dataframe tbody tr th {\n",
              "        vertical-align: top;\n",
              "    }\n",
              "\n",
              "    .dataframe thead th {\n",
              "        text-align: right;\n",
              "    }\n",
              "</style>\n",
              "<table border=\"1\" class=\"dataframe\">\n",
              "  <thead>\n",
              "    <tr style=\"text-align: right;\">\n",
              "      <th></th>\n",
              "      <th>image</th>\n",
              "      <th>era</th>\n",
              "      <th>c1</th>\n",
              "      <th>c2</th>\n",
              "      <th>c3</th>\n",
              "      <th>c4</th>\n",
              "      <th>c5</th>\n",
              "      <th>c6</th>\n",
              "      <th>c7</th>\n",
              "      <th>c8</th>\n",
              "      <th>c9</th>\n",
              "      <th>c10</th>\n",
              "      <th>c11</th>\n",
              "      <th>c12</th>\n",
              "      <th>c13</th>\n",
              "      <th>c14</th>\n",
              "      <th>c15</th>\n",
              "      <th>c16</th>\n",
              "      <th>c17</th>\n",
              "      <th>c18</th>\n",
              "      <th>c19</th>\n",
              "      <th>c20</th>\n",
              "      <th>c21</th>\n",
              "      <th>c22</th>\n",
              "      <th>c23</th>\n",
              "      <th>c24</th>\n",
              "      <th>c25</th>\n",
              "      <th>c26</th>\n",
              "      <th>c27</th>\n",
              "      <th>c28</th>\n",
              "      <th>c29</th>\n",
              "      <th>c30</th>\n",
              "      <th>c31</th>\n",
              "      <th>c32</th>\n",
              "      <th>c33</th>\n",
              "      <th>c34</th>\n",
              "      <th>c35</th>\n",
              "      <th>c36</th>\n",
              "      <th>c37</th>\n",
              "      <th>c38</th>\n",
              "      <th>...</th>\n",
              "      <th>c111</th>\n",
              "      <th>c112</th>\n",
              "      <th>c113</th>\n",
              "      <th>c114</th>\n",
              "      <th>c115</th>\n",
              "      <th>c116</th>\n",
              "      <th>c117</th>\n",
              "      <th>c118</th>\n",
              "      <th>c119</th>\n",
              "      <th>c120</th>\n",
              "      <th>c121</th>\n",
              "      <th>c122</th>\n",
              "      <th>c123</th>\n",
              "      <th>c124</th>\n",
              "      <th>c125</th>\n",
              "      <th>c126</th>\n",
              "      <th>c127</th>\n",
              "      <th>c128</th>\n",
              "      <th>c129</th>\n",
              "      <th>c130</th>\n",
              "      <th>c131</th>\n",
              "      <th>c132</th>\n",
              "      <th>c133</th>\n",
              "      <th>c134</th>\n",
              "      <th>c135</th>\n",
              "      <th>c136</th>\n",
              "      <th>c137</th>\n",
              "      <th>c138</th>\n",
              "      <th>c139</th>\n",
              "      <th>c140</th>\n",
              "      <th>c141</th>\n",
              "      <th>c142</th>\n",
              "      <th>c143</th>\n",
              "      <th>c144</th>\n",
              "      <th>c145</th>\n",
              "      <th>c146</th>\n",
              "      <th>c147</th>\n",
              "      <th>c148</th>\n",
              "      <th>c149</th>\n",
              "      <th>c150</th>\n",
              "    </tr>\n",
              "  </thead>\n",
              "  <tbody>\n",
              "    <tr>\n",
              "      <th>0</th>\n",
              "      <td>young_forever_44.jpg</td>\n",
              "      <td>young_forever</td>\n",
              "      <td>128</td>\n",
              "      <td>96</td>\n",
              "      <td>85</td>\n",
              "      <td>249</td>\n",
              "      <td>215</td>\n",
              "      <td>205</td>\n",
              "      <td>68</td>\n",
              "      <td>59</td>\n",
              "      <td>58</td>\n",
              "      <td>41</td>\n",
              "      <td>18</td>\n",
              "      <td>12</td>\n",
              "      <td>224</td>\n",
              "      <td>178</td>\n",
              "      <td>168</td>\n",
              "      <td>56</td>\n",
              "      <td>29</td>\n",
              "      <td>17</td>\n",
              "      <td>102</td>\n",
              "      <td>85</td>\n",
              "      <td>76</td>\n",
              "      <td>94</td>\n",
              "      <td>74</td>\n",
              "      <td>68</td>\n",
              "      <td>185</td>\n",
              "      <td>145</td>\n",
              "      <td>136</td>\n",
              "      <td>239</td>\n",
              "      <td>193</td>\n",
              "      <td>186</td>\n",
              "      <td>252</td>\n",
              "      <td>231</td>\n",
              "      <td>220</td>\n",
              "      <td>240</td>\n",
              "      <td>188</td>\n",
              "      <td>171</td>\n",
              "      <td>38</td>\n",
              "      <td>31</td>\n",
              "      <td>...</td>\n",
              "      <td>204</td>\n",
              "      <td>20</td>\n",
              "      <td>4</td>\n",
              "      <td>4</td>\n",
              "      <td>8</td>\n",
              "      <td>16</td>\n",
              "      <td>8</td>\n",
              "      <td>4</td>\n",
              "      <td>4</td>\n",
              "      <td>12</td>\n",
              "      <td>8</td>\n",
              "      <td>4</td>\n",
              "      <td>4</td>\n",
              "      <td>8</td>\n",
              "      <td>4</td>\n",
              "      <td>4</td>\n",
              "      <td>8</td>\n",
              "      <td>4</td>\n",
              "      <td>4</td>\n",
              "      <td>8</td>\n",
              "      <td>4</td>\n",
              "      <td>4</td>\n",
              "      <td>8</td>\n",
              "      <td>4</td>\n",
              "      <td>4</td>\n",
              "      <td>8</td>\n",
              "      <td>4</td>\n",
              "      <td>4</td>\n",
              "      <td>8</td>\n",
              "      <td>4</td>\n",
              "      <td>4</td>\n",
              "      <td>8</td>\n",
              "      <td>4</td>\n",
              "      <td>4</td>\n",
              "      <td>8</td>\n",
              "      <td>4</td>\n",
              "      <td>4</td>\n",
              "      <td>8</td>\n",
              "      <td>4</td>\n",
              "      <td>4</td>\n",
              "    </tr>\n",
              "  </tbody>\n",
              "</table>\n",
              "<p>1 rows × 152 columns</p>\n",
              "</div>"
            ],
            "text/plain": [
              "                  image            era   c1  c2  ...  c147  c148  c149  c150\n",
              "0  young_forever_44.jpg  young_forever  128  96  ...     4     8     4     4\n",
              "\n",
              "[1 rows x 152 columns]"
            ]
          },
          "metadata": {
            "tags": []
          },
          "execution_count": 4
        }
      ]
    },
    {
      "cell_type": "code",
      "metadata": {
        "id": "wG1nWYQEHIMW",
        "colab_type": "code",
        "colab": {}
      },
      "source": [
        "df = df.drop(columns=[\"image\"])"
      ],
      "execution_count": 0,
      "outputs": []
    },
    {
      "cell_type": "code",
      "metadata": {
        "id": "4orAr7WMF7Ny",
        "colab_type": "code",
        "colab": {}
      },
      "source": [
        "categorias = {}\n",
        "i = 0\n",
        "for v in df[\"era\"].values:\n",
        "  if v not in categorias:\n",
        "    categorias[v] = i\n",
        "    i += 1\n",
        "\n",
        "df[\"era\"] = df[\"era\"].map(categorias)"
      ],
      "execution_count": 0,
      "outputs": []
    },
    {
      "cell_type": "code",
      "metadata": {
        "id": "yA-mxGoGG3oI",
        "colab_type": "code",
        "outputId": "115ddfc2-1e6b-4dca-b880-82e988cb9931",
        "colab": {
          "base_uri": "https://localhost:8080/",
          "height": 129
        }
      },
      "source": [
        "df.head(1)"
      ],
      "execution_count": 0,
      "outputs": [
        {
          "output_type": "execute_result",
          "data": {
            "text/html": [
              "<div>\n",
              "<style scoped>\n",
              "    .dataframe tbody tr th:only-of-type {\n",
              "        vertical-align: middle;\n",
              "    }\n",
              "\n",
              "    .dataframe tbody tr th {\n",
              "        vertical-align: top;\n",
              "    }\n",
              "\n",
              "    .dataframe thead th {\n",
              "        text-align: right;\n",
              "    }\n",
              "</style>\n",
              "<table border=\"1\" class=\"dataframe\">\n",
              "  <thead>\n",
              "    <tr style=\"text-align: right;\">\n",
              "      <th></th>\n",
              "      <th>era</th>\n",
              "      <th>c1</th>\n",
              "      <th>c2</th>\n",
              "      <th>c3</th>\n",
              "      <th>c4</th>\n",
              "      <th>c5</th>\n",
              "      <th>c6</th>\n",
              "      <th>c7</th>\n",
              "      <th>c8</th>\n",
              "      <th>c9</th>\n",
              "      <th>c10</th>\n",
              "      <th>c11</th>\n",
              "      <th>c12</th>\n",
              "      <th>c13</th>\n",
              "      <th>c14</th>\n",
              "      <th>c15</th>\n",
              "      <th>c16</th>\n",
              "      <th>c17</th>\n",
              "      <th>c18</th>\n",
              "      <th>c19</th>\n",
              "      <th>c20</th>\n",
              "      <th>c21</th>\n",
              "      <th>c22</th>\n",
              "      <th>c23</th>\n",
              "      <th>c24</th>\n",
              "      <th>c25</th>\n",
              "      <th>c26</th>\n",
              "      <th>c27</th>\n",
              "      <th>c28</th>\n",
              "      <th>c29</th>\n",
              "      <th>c30</th>\n",
              "      <th>c31</th>\n",
              "      <th>c32</th>\n",
              "      <th>c33</th>\n",
              "      <th>c34</th>\n",
              "      <th>c35</th>\n",
              "      <th>c36</th>\n",
              "      <th>c37</th>\n",
              "      <th>c38</th>\n",
              "      <th>c39</th>\n",
              "      <th>...</th>\n",
              "      <th>c111</th>\n",
              "      <th>c112</th>\n",
              "      <th>c113</th>\n",
              "      <th>c114</th>\n",
              "      <th>c115</th>\n",
              "      <th>c116</th>\n",
              "      <th>c117</th>\n",
              "      <th>c118</th>\n",
              "      <th>c119</th>\n",
              "      <th>c120</th>\n",
              "      <th>c121</th>\n",
              "      <th>c122</th>\n",
              "      <th>c123</th>\n",
              "      <th>c124</th>\n",
              "      <th>c125</th>\n",
              "      <th>c126</th>\n",
              "      <th>c127</th>\n",
              "      <th>c128</th>\n",
              "      <th>c129</th>\n",
              "      <th>c130</th>\n",
              "      <th>c131</th>\n",
              "      <th>c132</th>\n",
              "      <th>c133</th>\n",
              "      <th>c134</th>\n",
              "      <th>c135</th>\n",
              "      <th>c136</th>\n",
              "      <th>c137</th>\n",
              "      <th>c138</th>\n",
              "      <th>c139</th>\n",
              "      <th>c140</th>\n",
              "      <th>c141</th>\n",
              "      <th>c142</th>\n",
              "      <th>c143</th>\n",
              "      <th>c144</th>\n",
              "      <th>c145</th>\n",
              "      <th>c146</th>\n",
              "      <th>c147</th>\n",
              "      <th>c148</th>\n",
              "      <th>c149</th>\n",
              "      <th>c150</th>\n",
              "    </tr>\n",
              "  </thead>\n",
              "  <tbody>\n",
              "    <tr>\n",
              "      <th>0</th>\n",
              "      <td>0</td>\n",
              "      <td>128</td>\n",
              "      <td>96</td>\n",
              "      <td>85</td>\n",
              "      <td>249</td>\n",
              "      <td>215</td>\n",
              "      <td>205</td>\n",
              "      <td>68</td>\n",
              "      <td>59</td>\n",
              "      <td>58</td>\n",
              "      <td>41</td>\n",
              "      <td>18</td>\n",
              "      <td>12</td>\n",
              "      <td>224</td>\n",
              "      <td>178</td>\n",
              "      <td>168</td>\n",
              "      <td>56</td>\n",
              "      <td>29</td>\n",
              "      <td>17</td>\n",
              "      <td>102</td>\n",
              "      <td>85</td>\n",
              "      <td>76</td>\n",
              "      <td>94</td>\n",
              "      <td>74</td>\n",
              "      <td>68</td>\n",
              "      <td>185</td>\n",
              "      <td>145</td>\n",
              "      <td>136</td>\n",
              "      <td>239</td>\n",
              "      <td>193</td>\n",
              "      <td>186</td>\n",
              "      <td>252</td>\n",
              "      <td>231</td>\n",
              "      <td>220</td>\n",
              "      <td>240</td>\n",
              "      <td>188</td>\n",
              "      <td>171</td>\n",
              "      <td>38</td>\n",
              "      <td>31</td>\n",
              "      <td>21</td>\n",
              "      <td>...</td>\n",
              "      <td>204</td>\n",
              "      <td>20</td>\n",
              "      <td>4</td>\n",
              "      <td>4</td>\n",
              "      <td>8</td>\n",
              "      <td>16</td>\n",
              "      <td>8</td>\n",
              "      <td>4</td>\n",
              "      <td>4</td>\n",
              "      <td>12</td>\n",
              "      <td>8</td>\n",
              "      <td>4</td>\n",
              "      <td>4</td>\n",
              "      <td>8</td>\n",
              "      <td>4</td>\n",
              "      <td>4</td>\n",
              "      <td>8</td>\n",
              "      <td>4</td>\n",
              "      <td>4</td>\n",
              "      <td>8</td>\n",
              "      <td>4</td>\n",
              "      <td>4</td>\n",
              "      <td>8</td>\n",
              "      <td>4</td>\n",
              "      <td>4</td>\n",
              "      <td>8</td>\n",
              "      <td>4</td>\n",
              "      <td>4</td>\n",
              "      <td>8</td>\n",
              "      <td>4</td>\n",
              "      <td>4</td>\n",
              "      <td>8</td>\n",
              "      <td>4</td>\n",
              "      <td>4</td>\n",
              "      <td>8</td>\n",
              "      <td>4</td>\n",
              "      <td>4</td>\n",
              "      <td>8</td>\n",
              "      <td>4</td>\n",
              "      <td>4</td>\n",
              "    </tr>\n",
              "  </tbody>\n",
              "</table>\n",
              "<p>1 rows × 151 columns</p>\n",
              "</div>"
            ],
            "text/plain": [
              "   era   c1  c2  c3   c4   c5   c6  ...  c144  c145  c146  c147  c148  c149  c150\n",
              "0    0  128  96  85  249  215  205  ...     4     8     4     4     8     4     4\n",
              "\n",
              "[1 rows x 151 columns]"
            ]
          },
          "metadata": {
            "tags": []
          },
          "execution_count": 7
        }
      ]
    },
    {
      "cell_type": "code",
      "metadata": {
        "id": "yprJ4r73KUfO",
        "colab_type": "code",
        "outputId": "c60cf384-a196-4e83-d28f-2cd559b4d5da",
        "colab": {
          "base_uri": "https://localhost:8080/",
          "height": 51
        }
      },
      "source": [
        "inv_cat = {v: k for k, v in categorias.items()}\n",
        "print(len(categorias))\n",
        "print(len(inv_cat))"
      ],
      "execution_count": 0,
      "outputs": [
        {
          "output_type": "stream",
          "text": [
            "43\n",
            "43\n"
          ],
          "name": "stdout"
        }
      ]
    },
    {
      "cell_type": "code",
      "metadata": {
        "id": "EHqPcLRy_FMc",
        "colab_type": "code",
        "colab": {}
      },
      "source": [
        "X = df.drop(columns=[\"era\"]).values\n",
        "y = df[\"era\"].values"
      ],
      "execution_count": 0,
      "outputs": []
    },
    {
      "cell_type": "code",
      "metadata": {
        "id": "zq1oDRLeTtIm",
        "colab_type": "code",
        "colab": {}
      },
      "source": [
        "from sklearn.model_selection import train_test_split\n",
        "X_treino, X_teste, y_treino, y_teste = train_test_split(X, y, test_size=0.3, random_state=7)"
      ],
      "execution_count": 0,
      "outputs": []
    },
    {
      "cell_type": "markdown",
      "metadata": {
        "id": "3f6RhjpPRCrO",
        "colab_type": "text"
      },
      "source": [
        "# KNN com todas eras"
      ]
    },
    {
      "cell_type": "code",
      "metadata": {
        "id": "WxY9Rx9Vf2ry",
        "colab_type": "code",
        "colab": {}
      },
      "source": [
        "from sklearn.neighbors import KNeighborsClassifier\n",
        "from sklearn.model_selection import cross_validate\n",
        "import numpy as np"
      ],
      "execution_count": 0,
      "outputs": []
    },
    {
      "cell_type": "code",
      "metadata": {
        "id": "kC6SyAaU45kz",
        "colab_type": "code",
        "outputId": "006b9aaf-6226-48ae-845b-abde869b65f8",
        "colab": {
          "base_uri": "https://localhost:8080/",
          "height": 125
        }
      },
      "source": [
        "vizinhos = [1,5,10,20,100,200]\n",
        "\n",
        "for i in vizinhos:\n",
        "  modelo = KNeighborsClassifier(n_neighbors=i)\n",
        "  cv = cross_validate(modelo, X, y, cv=5,scoring=(\"accuracy\"), return_train_score=True)\n",
        "  print(str(i) + \" | acuracia teste: \" + str(np.mean(cv[\"test_score\"])) + \" | acuracia treino: \" + str(np.mean(cv[\"train_score\"])))"
      ],
      "execution_count": 0,
      "outputs": [
        {
          "output_type": "stream",
          "text": [
            "1 | acuracia teste: 0.14869147830698132 | acuracia treino: 0.9961886923496344\n",
            "5 | acuracia teste: 0.14940674097832124 | acuracia treino: 0.34919792686196294\n",
            "10 | acuracia teste: 0.16625867120805232 | acuracia treino: 0.2864354271157736\n",
            "20 | acuracia teste: 0.16957700043521257 | acuracia treino: 0.23415679544833196\n",
            "100 | acuracia teste: 0.14194926696284355 | acuracia treino: 0.15277105295404786\n",
            "200 | acuracia teste: 0.12402895237145824 | acuracia treino: 0.13447237936794668\n"
          ],
          "name": "stdout"
        }
      ]
    },
    {
      "cell_type": "code",
      "metadata": {
        "id": "qIIucvaGST_Y",
        "colab_type": "code",
        "colab": {}
      },
      "source": [
        "modelo_knn = KNeighborsClassifier(n_neighbors=5)\n",
        "modelo_knn.fit(X_treino, y_treino)\n",
        "predicao_knn = modelo_knn.predict(X_teste)"
      ],
      "execution_count": 0,
      "outputs": []
    },
    {
      "cell_type": "code",
      "metadata": {
        "id": "Y35iFO2RUYBI",
        "colab_type": "code",
        "colab": {}
      },
      "source": [
        "from sklearn.metrics import confusion_matrix\n",
        "pred_knn_cat = []\n",
        "y_teste_cat = []\n",
        "\n",
        "for i in range(len(predicao_knn)):\n",
        "  pred_knn_cat.append(inv_cat[predicao_knn[i]])\n",
        "\n",
        "for i in range(len(y_teste)):\n",
        "  y_teste_cat.append(inv_cat[y_teste[i]])\n",
        "\n",
        "labels = list(categorias.keys())\n",
        "\n",
        "mc = confusion_matrix(pred_knn_cat, y_teste_cat, labels=labels)"
      ],
      "execution_count": 0,
      "outputs": []
    },
    {
      "cell_type": "code",
      "metadata": {
        "id": "syHCiydZbBbn",
        "colab_type": "code",
        "outputId": "e9c0c4bb-ef26-4d00-f5c4-daf6b066df37",
        "colab": {
          "base_uri": "https://localhost:8080/",
          "height": 493
        }
      },
      "source": [
        "import sys\n",
        "import numpy\n",
        "numpy.set_printoptions(threshold=sys.maxsize)\n",
        "\n",
        "diagonal = {}\n",
        "\n",
        "for i in range(len(mc)):\n",
        "  total = 0\n",
        "  for j in range(len(mc[i])):\n",
        "    total += mc[i][j]\n",
        "  if mc[i][i] > 0:\n",
        "    diagonal[labels[i]] = mc[i][i]/total\n",
        "\n",
        "s = [(k, diagonal[k]) for k in sorted(diagonal, key=diagonal.get, reverse=True)]\n",
        "\n",
        "for i in s:\n",
        "   print(i)"
      ],
      "execution_count": 0,
      "outputs": [
        {
          "output_type": "stream",
          "text": [
            "('love_youself_her', 1.0)\n",
            "('love_yourself_tear', 0.5)\n",
            "('dna_jp', 0.5)\n",
            "('lover_yourself_answer', 0.5)\n",
            "('o_rul8_2', 0.3333333333333333)\n",
            "('boy_meets_evil', 0.3333333333333333)\n",
            "('mic_drop', 0.3333333333333333)\n",
            "('we_are_bulletproof_pt2', 0.3333333333333333)\n",
            "('just_one_day', 0.3103448275862069)\n",
            "('save_me', 0.26666666666666666)\n",
            "('no', 0.23076923076923078)\n",
            "('need_u', 0.22857142857142856)\n",
            "('boy_in_luv_', 0.1875)\n",
            "('for_you', 0.18518518518518517)\n",
            "('airplane_pt2_jp', 0.18181818181818182)\n",
            "('epiphany', 0.18181818181818182)\n",
            "('run_japanese', 0.15294117647058825)\n",
            "('spring_day', 0.14285714285714285)\n",
            "('fire', 0.1282051282051282)\n",
            "('j_hope_airplane', 0.125)\n",
            "('fake_love', 0.1111111111111111)\n",
            "('map_of_the_soul_persona', 0.1111111111111111)\n",
            "('danger', 0.1111111111111111)\n",
            "('run', 0.09722222222222222)\n",
            "('lights', 0.08571428571428572)\n",
            "('young_forever', 0.06451612903225806)\n",
            "('blood_sweat_tears', 0.05714285714285714)\n",
            "('boy_with_luv', 0.05263157894736842)\n"
          ],
          "name": "stdout"
        }
      ]
    },
    {
      "cell_type": "code",
      "metadata": {
        "id": "dzkHLqknibae",
        "colab_type": "code",
        "outputId": "8779f38b-4129-406f-eec7-6f4d83bb6c41",
        "colab": {
          "base_uri": "https://localhost:8080/",
          "height": 34
        }
      },
      "source": [
        "selecionados = ['love_youself_her', 'love_yourself_tear', 'dna_jp', 'lover_yourself_answer']\n",
        "selecionados_cat = [categorias[s] for s in selecionados]\n",
        "selecionados_cat"
      ],
      "execution_count": 0,
      "outputs": [
        {
          "output_type": "execute_result",
          "data": {
            "text/plain": [
              "[31, 8, 30, 42]"
            ]
          },
          "metadata": {
            "tags": []
          },
          "execution_count": 17
        }
      ]
    },
    {
      "cell_type": "markdown",
      "metadata": {
        "id": "eXDpIYdvh-eS",
        "colab_type": "text"
      },
      "source": [
        "# KNN eras filtradas"
      ]
    },
    {
      "cell_type": "code",
      "metadata": {
        "id": "UXr8iAuwh9ND",
        "colab_type": "code",
        "outputId": "8ef860af-75ad-437c-a48a-26a556c265be",
        "colab": {
          "base_uri": "https://localhost:8080/",
          "height": 34
        }
      },
      "source": [
        "df_sel_knn = df\n",
        "df_sel_knn = df_sel_knn[df_sel_knn.era.isin(selecionados_cat)]\n",
        "df_sel_knn.shape"
      ],
      "execution_count": 0,
      "outputs": [
        {
          "output_type": "execute_result",
          "data": {
            "text/plain": [
              "(188, 151)"
            ]
          },
          "metadata": {
            "tags": []
          },
          "execution_count": 18
        }
      ]
    },
    {
      "cell_type": "code",
      "metadata": {
        "id": "x1RhvWrJnDF_",
        "colab_type": "code",
        "colab": {}
      },
      "source": [
        "X_sel = df_sel_knn.drop(columns=[\"era\"]).values\n",
        "y_sel = df_sel_knn[\"era\"].values"
      ],
      "execution_count": 0,
      "outputs": []
    },
    {
      "cell_type": "code",
      "metadata": {
        "id": "Lu7Nuwdom7N-",
        "colab_type": "code",
        "outputId": "9a92ce5f-871d-403b-97f4-559307b31c4d",
        "colab": {
          "base_uri": "https://localhost:8080/",
          "height": 85
        }
      },
      "source": [
        "vizinhos = [1,5,10,20]\n",
        "\n",
        "for i in vizinhos:\n",
        "  modelo = KNeighborsClassifier(n_neighbors=i)\n",
        "  cv = cross_validate(modelo, X_sel, y_sel, cv=5,scoring=(\"accuracy\"), return_train_score=True)\n",
        "  print(str(i) + \" | acuracia teste: \" + str(np.mean(cv[\"test_score\"])) + \" | acuracia treino: \" + str(np.mean(cv[\"train_score\"])))"
      ],
      "execution_count": 0,
      "outputs": [
        {
          "output_type": "stream",
          "text": [
            "1 | acuracia teste: 0.7283333333333333 | acuracia treino: 1.0\n",
            "5 | acuracia teste: 0.7388888888888889 | acuracia treino: 0.7990753911806543\n",
            "10 | acuracia teste: 0.72 | acuracia treino: 0.7461237553342818\n",
            "20 | acuracia teste: 0.6977777777777778 | acuracia treino: 0.7340682788051209\n"
          ],
          "name": "stdout"
        }
      ]
    },
    {
      "cell_type": "code",
      "metadata": {
        "id": "J-jSehkwoKgD",
        "colab_type": "code",
        "colab": {}
      },
      "source": [
        "X_treino_s, X_teste_s, y_treino_s, y_teste_s = train_test_split(X_sel, y_sel, test_size=0.3, random_state=7)"
      ],
      "execution_count": 0,
      "outputs": []
    },
    {
      "cell_type": "code",
      "metadata": {
        "id": "aH5E1o3soP9b",
        "colab_type": "code",
        "colab": {}
      },
      "source": [
        "modelo_knn = KNeighborsClassifier(n_neighbors=10)\n",
        "modelo_knn.fit(X_treino_s, y_treino_s)\n",
        "predicao_knn = modelo_knn.predict(X_teste_s)"
      ],
      "execution_count": 0,
      "outputs": []
    },
    {
      "cell_type": "code",
      "metadata": {
        "id": "fSZp19eqoYH8",
        "colab_type": "code",
        "outputId": "21b78165-2daa-40da-cea9-691e8fe6e6cc",
        "colab": {
          "base_uri": "https://localhost:8080/",
          "height": 85
        }
      },
      "source": [
        "pred_knn_cat = []\n",
        "y_teste_cat = []\n",
        "\n",
        "for i in range(len(predicao_knn)):\n",
        "  pred_knn_cat.append(inv_cat[predicao_knn[i]])\n",
        "\n",
        "for i in range(len(y_teste_s)):\n",
        "  y_teste_cat.append(inv_cat[y_teste_s[i]])\n",
        "\n",
        "# labels = list(categorias.keys())\n",
        "\n",
        "mc = confusion_matrix(pred_knn_cat, y_teste_cat, labels=selecionados)\n",
        "mc"
      ],
      "execution_count": 0,
      "outputs": [
        {
          "output_type": "execute_result",
          "data": {
            "text/plain": [
              "array([[ 5,  1,  0,  1],\n",
              "       [ 3,  2,  0,  2],\n",
              "       [ 0,  1, 30,  0],\n",
              "       [ 4,  3,  0,  5]])"
            ]
          },
          "metadata": {
            "tags": []
          },
          "execution_count": 28
        }
      ]
    },
    {
      "cell_type": "code",
      "metadata": {
        "id": "yG3PQ4proota",
        "colab_type": "code",
        "outputId": "95ba0db7-b06d-47e5-c544-e51725ff08ef",
        "colab": {
          "base_uri": "https://localhost:8080/",
          "height": 85
        }
      },
      "source": [
        "diagonal = {}\n",
        "\n",
        "for i in range(len(mc)):\n",
        "  total = 0\n",
        "  for j in range(len(mc[i])):\n",
        "    total += mc[i][j]\n",
        "  if mc[i][i] > 0:\n",
        "    diagonal[labels[i]] = mc[i][i]/total\n",
        "\n",
        "s = [(k, diagonal[k]) for k in sorted(diagonal, key=diagonal.get, reverse=True)]\n",
        "\n",
        "for i in s:\n",
        "   print(i)"
      ],
      "execution_count": 0,
      "outputs": [
        {
          "output_type": "stream",
          "text": [
            "('dna_jp', 0.967741935483871)\n",
            "('love_youself_her', 0.7142857142857143)\n",
            "('lover_yourself_answer', 0.4166666666666667)\n",
            "('love_yourself_tear', 0.2857142857142857)\n"
          ],
          "name": "stdout"
        }
      ]
    },
    {
      "cell_type": "markdown",
      "metadata": {
        "id": "wCYGDPmER5hV",
        "colab_type": "text"
      },
      "source": [
        "# Regressão logística com todas eras"
      ]
    },
    {
      "cell_type": "code",
      "metadata": {
        "id": "CsfiSVoOR9Qm",
        "colab_type": "code",
        "outputId": "1f772419-bc96-46f1-9045-bfae64ba43c6",
        "colab": {
          "base_uri": "https://localhost:8080/",
          "height": 632
        }
      },
      "source": [
        "from sklearn.linear_model import LogisticRegression\n",
        "\n",
        "regularizacao = [1e-6,1e-4,1e-2,1,5]\n",
        "\n",
        "for i in regularizacao:\n",
        "  modelo = LogisticRegression(C=i, multi_class=\"multinomial\", solver=\"sag\", max_iter=1000)\n",
        "  cv = cross_validate(modelo, X, y, cv=5,scoring=(\"accuracy\"), return_train_score=True)\n",
        "  print(str(i) + \" | acuracia teste: \" + str(np.mean(cv[\"test_score\"])) + \" | acuracia treino: \" + str(np.mean(cv[\"train_score\"])))"
      ],
      "execution_count": 0,
      "outputs": [
        {
          "output_type": "stream",
          "text": [
            "1e-06 | acuracia teste: 0.15435101247043284 | acuracia treino: 0.28280213657660247\n",
            "0.0001 | acuracia teste: 0.18014553926975738 | acuracia treino: 0.5574337131159356\n"
          ],
          "name": "stdout"
        },
        {
          "output_type": "stream",
          "text": [
            "/usr/local/lib/python3.6/dist-packages/sklearn/linear_model/sag.py:337: ConvergenceWarning: The max_iter was reached which means the coef_ did not converge\n",
            "  \"the coef_ did not converge\", ConvergenceWarning)\n",
            "/usr/local/lib/python3.6/dist-packages/sklearn/linear_model/sag.py:337: ConvergenceWarning: The max_iter was reached which means the coef_ did not converge\n",
            "  \"the coef_ did not converge\", ConvergenceWarning)\n",
            "/usr/local/lib/python3.6/dist-packages/sklearn/linear_model/sag.py:337: ConvergenceWarning: The max_iter was reached which means the coef_ did not converge\n",
            "  \"the coef_ did not converge\", ConvergenceWarning)\n",
            "/usr/local/lib/python3.6/dist-packages/sklearn/linear_model/sag.py:337: ConvergenceWarning: The max_iter was reached which means the coef_ did not converge\n",
            "  \"the coef_ did not converge\", ConvergenceWarning)\n",
            "/usr/local/lib/python3.6/dist-packages/sklearn/linear_model/sag.py:337: ConvergenceWarning: The max_iter was reached which means the coef_ did not converge\n",
            "  \"the coef_ did not converge\", ConvergenceWarning)\n"
          ],
          "name": "stderr"
        },
        {
          "output_type": "stream",
          "text": [
            "0.01 | acuracia teste: 0.16164706046397084 | acuracia treino: 0.6596054152103603\n"
          ],
          "name": "stdout"
        },
        {
          "output_type": "stream",
          "text": [
            "/usr/local/lib/python3.6/dist-packages/sklearn/linear_model/sag.py:337: ConvergenceWarning: The max_iter was reached which means the coef_ did not converge\n",
            "  \"the coef_ did not converge\", ConvergenceWarning)\n",
            "/usr/local/lib/python3.6/dist-packages/sklearn/linear_model/sag.py:337: ConvergenceWarning: The max_iter was reached which means the coef_ did not converge\n",
            "  \"the coef_ did not converge\", ConvergenceWarning)\n",
            "/usr/local/lib/python3.6/dist-packages/sklearn/linear_model/sag.py:337: ConvergenceWarning: The max_iter was reached which means the coef_ did not converge\n",
            "  \"the coef_ did not converge\", ConvergenceWarning)\n",
            "/usr/local/lib/python3.6/dist-packages/sklearn/linear_model/sag.py:337: ConvergenceWarning: The max_iter was reached which means the coef_ did not converge\n",
            "  \"the coef_ did not converge\", ConvergenceWarning)\n",
            "/usr/local/lib/python3.6/dist-packages/sklearn/linear_model/sag.py:337: ConvergenceWarning: The max_iter was reached which means the coef_ did not converge\n",
            "  \"the coef_ did not converge\", ConvergenceWarning)\n"
          ],
          "name": "stderr"
        },
        {
          "output_type": "stream",
          "text": [
            "1 | acuracia teste: 0.16129675352432518 | acuracia treino: 0.6609059649804951\n"
          ],
          "name": "stdout"
        },
        {
          "output_type": "stream",
          "text": [
            "/usr/local/lib/python3.6/dist-packages/sklearn/linear_model/sag.py:337: ConvergenceWarning: The max_iter was reached which means the coef_ did not converge\n",
            "  \"the coef_ did not converge\", ConvergenceWarning)\n",
            "/usr/local/lib/python3.6/dist-packages/sklearn/linear_model/sag.py:337: ConvergenceWarning: The max_iter was reached which means the coef_ did not converge\n",
            "  \"the coef_ did not converge\", ConvergenceWarning)\n",
            "/usr/local/lib/python3.6/dist-packages/sklearn/linear_model/sag.py:337: ConvergenceWarning: The max_iter was reached which means the coef_ did not converge\n",
            "  \"the coef_ did not converge\", ConvergenceWarning)\n",
            "/usr/local/lib/python3.6/dist-packages/sklearn/linear_model/sag.py:337: ConvergenceWarning: The max_iter was reached which means the coef_ did not converge\n",
            "  \"the coef_ did not converge\", ConvergenceWarning)\n"
          ],
          "name": "stderr"
        },
        {
          "output_type": "stream",
          "text": [
            "5 | acuracia teste: 0.16163688957874695 | acuracia treino: 0.6608193776152016\n"
          ],
          "name": "stdout"
        },
        {
          "output_type": "stream",
          "text": [
            "/usr/local/lib/python3.6/dist-packages/sklearn/linear_model/sag.py:337: ConvergenceWarning: The max_iter was reached which means the coef_ did not converge\n",
            "  \"the coef_ did not converge\", ConvergenceWarning)\n"
          ],
          "name": "stderr"
        }
      ]
    },
    {
      "cell_type": "code",
      "metadata": {
        "id": "Ae5WuAvfNytb",
        "colab_type": "code",
        "colab": {}
      },
      "source": [
        "modelo_rl = LogisticRegression(C=10e-6, multi_class=\"multinomial\", solver=\"sag\", max_iter=1000)\n",
        "modelo_rl.fit(X_treino, y_treino)\n",
        "predicao_rl = modelo_rl.predict(X_teste)"
      ],
      "execution_count": 0,
      "outputs": []
    },
    {
      "cell_type": "code",
      "metadata": {
        "id": "5OAySneHOUfH",
        "colab_type": "code",
        "colab": {}
      },
      "source": [
        "from sklearn.metrics import confusion_matrix\n",
        "pred_rl_cat = []\n",
        "y_teste_cat = []\n",
        "\n",
        "for i in range(len(predicao_rl)):\n",
        "  pred_rl_cat.append(inv_cat[predicao_rl[i]])\n",
        "\n",
        "for i in range(len(y_teste)):\n",
        "  y_teste_cat.append(inv_cat[y_teste[i]])\n",
        "\n",
        "labels = list(categorias.keys())\n",
        "\n",
        "mc = confusion_matrix(pred_rl_cat, y_teste_cat, labels=labels)"
      ],
      "execution_count": 0,
      "outputs": []
    },
    {
      "cell_type": "code",
      "metadata": {
        "id": "yRKW_TaHWRoS",
        "colab_type": "code",
        "outputId": "a6a608fe-e588-4ae5-df47-1134271fe304",
        "colab": {
          "base_uri": "https://localhost:8080/",
          "height": 595
        }
      },
      "source": [
        "import sys\n",
        "import numpy\n",
        "numpy.set_printoptions(threshold=sys.maxsize)\n",
        "\n",
        "diagonal = {}\n",
        "\n",
        "for i in range(len(mc)):\n",
        "  total = 0\n",
        "  for j in range(len(mc[i])):\n",
        "    total += mc[i][j]\n",
        "  if mc[i][i] > 0:\n",
        "    diagonal[labels[i]] = mc[i][i]/total\n",
        "\n",
        "s = [(k, diagonal[k]) for k in sorted(diagonal, key=diagonal.get, reverse=True)]\n",
        "\n",
        "for i in s:\n",
        "   print(i)"
      ],
      "execution_count": 0,
      "outputs": [
        {
          "output_type": "stream",
          "text": [
            "('wings', 1.0)\n",
            "('save_me', 0.44)\n",
            "('run_japanese', 0.43478260869565216)\n",
            "('just_one_day', 0.4074074074074074)\n",
            "('love_yourself_tear', 0.3333333333333333)\n",
            "('hwayangyeonhwa-pt2', 0.3333333333333333)\n",
            "('boy_meets_evil', 0.3333333333333333)\n",
            "('mic_drop', 0.3333333333333333)\n",
            "('dark_n_wild', 0.3333333333333333)\n",
            "('need_u', 0.2916666666666667)\n",
            "('airplane_pt2_jp', 0.2692307692307692)\n",
            "('hwayangyeonhwa-pt1', 0.2222222222222222)\n",
            "('not_today', 0.21875)\n",
            "('fire', 0.21428571428571427)\n",
            "('spring_day', 0.1956521739130435)\n",
            "('no', 0.1875)\n",
            "('dope', 0.18181818181818182)\n",
            "('o_rul8_2', 0.16666666666666666)\n",
            "('boy_in_luv_', 0.16666666666666666)\n",
            "('lights', 0.16)\n",
            "('young_forever', 0.15384615384615385)\n",
            "('epiphany', 0.14814814814814814)\n",
            "('love_youself_her', 0.14285714285714285)\n",
            "('we_are_bulletproof_pt2', 0.14285714285714285)\n",
            "('fake_love', 0.125)\n",
            "('danger', 0.125)\n",
            "('for_you', 0.1111111111111111)\n",
            "('run', 0.10526315789473684)\n",
            "('idol', 0.10526315789473684)\n",
            "('boy_with_luv', 0.0967741935483871)\n",
            "('war_of_hormone', 0.09090909090909091)\n",
            "('dna_jp', 0.05263157894736842)\n",
            "('blood_sweat_tears', 0.05084745762711865)\n",
            "('map_of_the_soul_persona', 0.047619047619047616)\n"
          ],
          "name": "stdout"
        }
      ]
    },
    {
      "cell_type": "markdown",
      "metadata": {
        "id": "l8thubsoaJYJ",
        "colab_type": "text"
      },
      "source": [
        "# Regressão logística eras filtradas"
      ]
    },
    {
      "cell_type": "code",
      "metadata": {
        "id": "IAnVKCtLWZcg",
        "colab_type": "code",
        "outputId": "5af7e7ff-c883-4948-e332-f68075f1f0d0",
        "colab": {
          "base_uri": "https://localhost:8080/",
          "height": 34
        }
      },
      "source": [
        "selecionados = ['wings', 'save_me', 'run_japanese', 'just_one_day']\n",
        "selecionados_cat = [categorias[s] for s in selecionados]\n",
        "selecionados_cat"
      ],
      "execution_count": 0,
      "outputs": [
        {
          "output_type": "execute_result",
          "data": {
            "text/plain": [
              "[17, 2, 1, 22]"
            ]
          },
          "metadata": {
            "tags": []
          },
          "execution_count": 19
        }
      ]
    },
    {
      "cell_type": "code",
      "metadata": {
        "id": "17DEd13wWqqf",
        "colab_type": "code",
        "outputId": "4b19d0d5-c649-4dd7-c071-5f1b48cca162",
        "colab": {
          "base_uri": "https://localhost:8080/",
          "height": 34
        }
      },
      "source": [
        "df_sel_knn = df\n",
        "df_sel_knn = df_sel_knn[df_sel_knn.era.isin(selecionados_cat)]\n",
        "df_sel_knn.shape"
      ],
      "execution_count": 0,
      "outputs": [
        {
          "output_type": "execute_result",
          "data": {
            "text/plain": [
              "(224, 151)"
            ]
          },
          "metadata": {
            "tags": []
          },
          "execution_count": 20
        }
      ]
    },
    {
      "cell_type": "code",
      "metadata": {
        "id": "5mK8oIEbWvGz",
        "colab_type": "code",
        "colab": {}
      },
      "source": [
        "X_sel = df_sel_knn.drop(columns=[\"era\"]).values\n",
        "y_sel = df_sel_knn[\"era\"].values"
      ],
      "execution_count": 0,
      "outputs": []
    },
    {
      "cell_type": "code",
      "metadata": {
        "id": "mR2qgE_DWyHc",
        "colab_type": "code",
        "outputId": "611de15c-0213-4eeb-9bf4-3d9e666396c7",
        "colab": {
          "base_uri": "https://localhost:8080/",
          "height": 102
        }
      },
      "source": [
        "regularizacao = [1e-6,1e-4,1e-2,1,5]\n",
        "\n",
        "for i in regularizacao:\n",
        "  modelo = LogisticRegression(C=i, multi_class=\"multinomial\", solver=\"sag\", max_iter=2000)\n",
        "  cv = cross_validate(modelo, X_sel, y_sel, cv=5,scoring=(\"accuracy\"), return_train_score=True)\n",
        "  print(str(i) + \" | acuracia teste: \" + str(np.mean(cv[\"test_score\"])) + \" | acuracia treino: \" + str(np.mean(cv[\"train_score\"])))"
      ],
      "execution_count": 0,
      "outputs": [
        {
          "output_type": "stream",
          "text": [
            "1e-06 | acuracia teste: 0.8541653546848995 | acuracia treino: 0.8951108613998396\n",
            "0.0001 | acuracia teste: 0.8773154603931447 | acuracia treino: 1.0\n",
            "0.01 | acuracia teste: 0.8862219423327785 | acuracia treino: 1.0\n",
            "1 | acuracia teste: 0.8904772614817148 | acuracia treino: 1.0\n",
            "5 | acuracia teste: 0.8904772614817148 | acuracia treino: 1.0\n"
          ],
          "name": "stdout"
        }
      ]
    },
    {
      "cell_type": "code",
      "metadata": {
        "id": "Qipp2x0KXRbT",
        "colab_type": "code",
        "colab": {}
      },
      "source": [
        "X_treino_s, X_teste_s, y_treino_s, y_teste_s = train_test_split(X_sel, y_sel, test_size=0.3, random_state=7)"
      ],
      "execution_count": 0,
      "outputs": []
    },
    {
      "cell_type": "code",
      "metadata": {
        "id": "Zb6mKPJkXWBX",
        "colab_type": "code",
        "colab": {}
      },
      "source": [
        "modelo_rl = LogisticRegression(C=10e-6, multi_class=\"multinomial\", solver=\"sag\", max_iter=1000)\n",
        "modelo_rl.fit(X_treino_s, y_treino_s)\n",
        "predicao_rl = modelo_rl.predict(X_teste_s)"
      ],
      "execution_count": 0,
      "outputs": []
    },
    {
      "cell_type": "code",
      "metadata": {
        "id": "rEOAgFdbXvQW",
        "colab_type": "code",
        "outputId": "6f91243a-0256-4498-a558-19a51a04587d",
        "colab": {
          "base_uri": "https://localhost:8080/",
          "height": 85
        }
      },
      "source": [
        "pred_rl_cat = []\n",
        "y_teste_cat = []\n",
        "\n",
        "for i in range(len(predicao_rl)):\n",
        "  pred_rl_cat.append(inv_cat[predicao_rl[i]])\n",
        "\n",
        "for i in range(len(y_teste_s)):\n",
        "  y_teste_cat.append(inv_cat[y_teste_s[i]])\n",
        "\n",
        "# labels = list(categorias.keys())\n",
        "\n",
        "mc = confusion_matrix(pred_rl_cat, y_teste_cat, labels=selecionados)\n",
        "mc"
      ],
      "execution_count": 0,
      "outputs": [
        {
          "output_type": "execute_result",
          "data": {
            "text/plain": [
              "array([[ 0,  0,  0,  0],\n",
              "       [ 0, 22,  1,  0],\n",
              "       [ 5,  1, 20,  0],\n",
              "       [ 2,  0,  0, 17]])"
            ]
          },
          "metadata": {
            "tags": []
          },
          "execution_count": 28
        }
      ]
    },
    {
      "cell_type": "code",
      "metadata": {
        "id": "BYY5gpxJYel5",
        "colab_type": "code",
        "outputId": "cef62671-7537-4896-d6b2-f6cc56a17a07",
        "colab": {
          "base_uri": "https://localhost:8080/",
          "height": 68
        }
      },
      "source": [
        "diagonal = {}\n",
        "\n",
        "for i in range(len(mc)):\n",
        "  total = 0\n",
        "  for j in range(len(mc[i])):\n",
        "    total += mc[i][j]\n",
        "  if mc[i][i] > 0:\n",
        "    diagonal[labels[i]] = mc[i][i]/total\n",
        "\n",
        "s = [(k, diagonal[k]) for k in sorted(diagonal, key=diagonal.get, reverse=True)]\n",
        "\n",
        "for i in s:\n",
        "   print(i)"
      ],
      "execution_count": 0,
      "outputs": [
        {
          "output_type": "stream",
          "text": [
            "('run_japanese', 0.9565217391304348)\n",
            "('run', 0.8947368421052632)\n",
            "('save_me', 0.7692307692307693)\n"
          ],
          "name": "stdout"
        }
      ]
    }
  ]
}